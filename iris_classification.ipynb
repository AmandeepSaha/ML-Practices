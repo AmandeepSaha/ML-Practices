{
 "cells": [
  {
   "attachments": {},
   "cell_type": "markdown",
   "metadata": {},
   "source": [
    "# __The Iris Dataset__\n"
   ]
  },
  {
   "cell_type": "code",
   "execution_count": 53,
   "metadata": {},
   "outputs": [],
   "source": [
    "import numpy as np\n",
    "from sklearn import datasets\n",
    "import pandas as pd\n",
    "import matplotlib.pyplot as plt\n",
    "from sklearn.linear_model import LogisticRegression\n",
    "from sklearn.model_selection import train_test_split"
   ]
  },
  {
   "attachments": {},
   "cell_type": "markdown",
   "metadata": {},
   "source": [
    "__model__"
   ]
  },
  {
   "cell_type": "code",
   "execution_count": null,
   "metadata": {},
   "outputs": [],
   "source": [
    "iris = datasets.load_iris()\n",
    "x_train,x_test,y_train,y_test = train_test_split(iris.data,iris.target,test_size=0.12)\n",
    "model = LogisticRegression()\n",
    "model.fit(x_train,y_train)\n",
    "# print(model.score(np.array([[1,2,3,4]])),np.array([3]))"
   ]
  },
  {
   "attachments": {},
   "cell_type": "markdown",
   "metadata": {},
   "source": [
    "__predictions__"
   ]
  },
  {
   "cell_type": "code",
   "execution_count": 101,
   "metadata": {},
   "outputs": [
    {
     "ename": "ValueError",
     "evalue": "invalid literal for int() with base 10: '1.2'",
     "output_type": "error",
     "traceback": [
      "\u001b[1;31m---------------------------------------------------------------------------\u001b[0m",
      "\u001b[1;31mValueError\u001b[0m                                Traceback (most recent call last)",
      "\u001b[1;32md:\\ML Practics\\iris_classification.ipynb Cell 6\u001b[0m in \u001b[0;36m<cell line: 1>\u001b[1;34m()\u001b[0m\n\u001b[1;32m----> <a href='vscode-notebook-cell:/d%3A/ML%20Practics/iris_classification.ipynb#X26sZmlsZQ%3D%3D?line=0'>1</a>\u001b[0m prediction \u001b[39m=\u001b[39m model\u001b[39m.\u001b[39mpredict([[\u001b[39mint\u001b[39;49m(\u001b[39minput\u001b[39;49m(\u001b[39m\"\u001b[39;49m\u001b[39mSepal Length (cm): \u001b[39;49m\u001b[39m\"\u001b[39;49m)),\u001b[39mint\u001b[39m(\u001b[39minput\u001b[39m(\u001b[39m\"\u001b[39m\u001b[39mSepal Width (cm):\u001b[39m\u001b[39m\"\u001b[39m)),\u001b[39mint\u001b[39m(\u001b[39minput\u001b[39m(\u001b[39m\"\u001b[39m\u001b[39mPetal Length (cm): \u001b[39m\u001b[39m\"\u001b[39m)),\u001b[39mint\u001b[39m(\u001b[39minput\u001b[39m(\u001b[39m\"\u001b[39m\u001b[39mPetal Width (cm): \u001b[39m\u001b[39m\"\u001b[39m))]])\n\u001b[0;32m      <a href='vscode-notebook-cell:/d%3A/ML%20Practics/iris_classification.ipynb#X26sZmlsZQ%3D%3D?line=1'>2</a>\u001b[0m \u001b[39m# for i in range(3):\u001b[39;00m\n\u001b[0;32m      <a href='vscode-notebook-cell:/d%3A/ML%20Practics/iris_classification.ipynb#X26sZmlsZQ%3D%3D?line=2'>3</a>\u001b[0m     \u001b[39m# value = \"Setosa\" if prediction == np.array([0]) else \"Versicolor\" if prediction == np.array([1]) else \"Virginica\"\u001b[39;00m\n\u001b[0;32m      <a href='vscode-notebook-cell:/d%3A/ML%20Practics/iris_classification.ipynb#X26sZmlsZQ%3D%3D?line=3'>4</a>\u001b[0m \u001b[39m# print(value)\u001b[39;00m\n\u001b[0;32m      <a href='vscode-notebook-cell:/d%3A/ML%20Practics/iris_classification.ipynb#X26sZmlsZQ%3D%3D?line=4'>5</a>\u001b[0m \u001b[39mprint\u001b[39m(prediction)\n",
      "\u001b[1;31mValueError\u001b[0m: invalid literal for int() with base 10: '1.2'"
     ]
    }
   ],
   "source": [
    "prediction = model.predict([[int(input(\"Sepal Length (cm): \")),int(input(\"Sepal Width (cm):\")),int(input(\"Petal Length (cm): \")),int(input(\"Petal Width (cm): \"))]])\n",
    "# for i in range(3):\n",
    "#     value = \"Setosa\" if prediction == np.array([0]) else \"Versicolor\" if prediction == np.array([1]) else \"Virginica\"\n",
    "# print(value)\n",
    "print(prediction)"
   ]
  }
 ],
 "metadata": {
  "kernelspec": {
   "display_name": "Python 3",
   "language": "python",
   "name": "python3"
  },
  "language_info": {
   "codemirror_mode": {
    "name": "ipython",
    "version": 3
   },
   "file_extension": ".py",
   "mimetype": "text/x-python",
   "name": "python",
   "nbconvert_exporter": "python",
   "pygments_lexer": "ipython3",
   "version": "3.10.8"
  },
  "orig_nbformat": 4
 },
 "nbformat": 4,
 "nbformat_minor": 2
}
